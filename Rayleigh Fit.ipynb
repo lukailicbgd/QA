{
 "cells": [
  {
   "cell_type": "code",
   "execution_count": 13,
   "metadata": {},
   "outputs": [],
   "source": [
    "import numpy as np\n",
    "import datetime\n",
    "\n",
    "from os import listdir\n",
    "from os.path import isfile, join\n",
    "\n",
    "import licel as licel\n",
    "import generic as generic\n",
    "\n",
    "from us_std import Atmosphere\n",
    "import rayleigh_scattering as rscat\n",
    "\n",
    "from scipy import signal\n",
    "from scipy import integrate\n",
    "from scipy import stats\n",
    "\n",
    "import statsmodels.api as sm\n",
    "\n",
    "import matplotlib\n",
    "import matplotlib.ticker as mtick\n",
    "import matplotlib.pyplot as plt\n",
    "import mpl_toolkits.axisartist as AA\n",
    "from mpl_toolkits.axes_grid1 import host_subplot\n",
    "\n",
    "#%matplotlib notebook"
   ]
  },
  {
   "cell_type": "code",
   "execution_count": 14,
   "metadata": {},
   "outputs": [],
   "source": [
    "def my_range(start, end, step):\n",
    "    while start <= end:\n",
    "        yield start\n",
    "        start += step\n",
    "\n",
    "def fit(q0,q1,Sn,Sf):\n",
    "    GCs = np.polyfit(Sn[q0:q1],Sf[q0:q1],1)\n",
    "#   f = np.poly1d(GCs)\n",
    "#   an_new = f(Sn[q0:q1])\n",
    "    return GCs\n",
    "\n",
    "def get_toggle_freq(an, an_d, pc, overlap, max_freq, min_freq = None, pre_amplifier_range = None, LSB_coeff = None):\n",
    "#   tmp = np.subtract(an, an_d)\n",
    "#   an = tmp[0]\n",
    "    LSB = pre_amplifier_range/2.0**12\n",
    "    Xa = None\n",
    "    Xp = None\n",
    "    min_freq_bin = None\n",
    "\n",
    "    if min_freq == None and LSB == None:\n",
    "        warnings.warn('No min_freq or LSB specified.')\n",
    "\n",
    "    if LSB != None:\n",
    "        if LSB_coeff == None:\n",
    "            warnings.warn('LSB_coeff not specified. Using LSB_coeff = 2')\n",
    "            LSB_coeff = 2.0\n",
    "        for j in range(overlap, len(an)):\n",
    "            if an[j] < LSB_coeff * LSB:\n",
    "               Xa = j - 1\n",
    "               break\n",
    "\n",
    "    if min_freq != None:\n",
    "        for j in range(overlap, len(pc)):\n",
    "            if pc[j] < min_freq:\n",
    "               min_freq_bin = j - 1\n",
    "               break\n",
    "\n",
    "    if max_freq > 70.0 or max_freq < 10.0:\n",
    "        warnings.warn('Maximum toggle frerquency values between 10MHz and 70MHz are considered \"safe\" by Raymetrics')\n",
    "\n",
    "    if np.amax(pc) > max_freq:\n",
    "        for j in range(overlap, len(pc)):\n",
    "            if pc[j] < max_freq:\n",
    "                Xp = j - 1\n",
    "                break\n",
    "    else:\n",
    "       warnings.warn('Specified maximum toggle frequency is greater than photon counting signal peak.')\n",
    "    return (Xp, Xa, min_freq_bin)"
   ]
  },
  {
   "cell_type": "code",
   "execution_count": 23,
   "metadata": {},
   "outputs": [],
   "source": [
    "dates = []\n",
    "\n",
    "Taud = 4e-09\n",
    "range_355 = 100.0\n",
    "range_387 = 20.0\n",
    "Xa355 = []\n",
    "Xp355 = []\n",
    "mfb355 = []\n",
    "Xa387 = []\n",
    "Xp387 = []\n",
    "mfb387 = []\n",
    "maxf = 10.0\n",
    "overlap = 60\n",
    "root_dir = '/home/luka/lidar/2020/27042020'\n",
    "data_dir = root_dir+'/ray'\n",
    "dark_dir = root_dir+'/dark'\n",
    "dark_file = [join(dark_dir, f) for f in listdir(dark_dir) if isfile(join(dark_dir,f))]\n",
    "#print('dark_file=',dark_file)\n",
    "dark_measurement = generic.LicelLidarMeasurement(dark_file)\n",
    "an355d = dark_measurement.channels['00355.o_an'].matrix\n",
    "ph355d = dark_measurement.channels['00355.o_ph'].matrix\n",
    "an387d = dark_measurement.channels['00387.o_an'].matrix\n",
    "ph387d = dark_measurement.channels['00387.o_ph'].matrix\n",
    "\n",
    "filelist = [join(data_dir,f) for f in listdir(data_dir) if isfile(join(data_dir,f))]\n",
    "filelist.sort()\n",
    "#print(filelist,len(filelist))"
   ]
  },
  {
   "cell_type": "code",
   "execution_count": 24,
   "metadata": {},
   "outputs": [],
   "source": [
    "measurement = generic.LicelLidarMeasurement(filelist)\n",
    "    \n",
    "an355 = measurement.channels['00355.o_an'].matrix \n",
    "ph355 = measurement.channels['00355.o_ph'].matrix\n",
    "an387 = measurement.channels['00387.o_an'].matrix\n",
    "ph387 = measurement.channels['00387.o_ph'].matrix\n",
    "\n",
    "z = measurement.channels['00355.o_an'].z\n",
    "valid_time = measurement.info['start_time'] + measurement.info['duration']/2 \n",
    "dates.append(valid_time)"
   ]
  },
  {
   "cell_type": "code",
   "execution_count": 25,
   "metadata": {},
   "outputs": [
    {
     "name": "stdout",
     "output_type": "stream",
     "text": [
      "Xp, Xa, mfb\n",
      "(345, 455, 903)\n"
     ]
    }
   ],
   "source": [
    "#Ns = 2.54743E19 #cm-3\n",
    "Ns = 2.54743E25 #m-3\n",
    "sigma355 = rscat.scattering_cross_section(355) * 1E-4\n",
    "sigma387 = rscat.scattering_cross_section(387) * 1E-4\n",
    "rhon355 = 0.0306\n",
    "rhon387 = 0.0299\n",
    "\n",
    "wl = 355\n",
    "if wl == 355:\n",
    "    an = an355\n",
    "    ph = ph355\n",
    "    an_d = an355d\n",
    "    sigma = sigma355\n",
    "    rhon = rhon355\n",
    "elif wl == 387:\n",
    "    an = an387\n",
    "    ph = ph387\n",
    "    an_d = an387d\n",
    "    sigma = sigma387\n",
    "    rhon = rhon387\n",
    "\n",
    "#dead time correction\n",
    "nDTC = ph\n",
    "nDTCa = np.mean(ph, axis = 0)\n",
    "ph = ph*1000000.0/(1 - (ph*1000000.0*Taud))\n",
    "ph = ph/1000000.0\n",
    "#dark subtraction\n",
    "an = an - an_d\n",
    "#an387 = an387 - an387d\n",
    "\n",
    "#gluing region\n",
    "ana = np.mean(an, axis = 0)\n",
    "pha = np.mean(ph, axis = 0)\n",
    "\n",
    "#zero bin and bin shift\n",
    "ana = np.roll(ana, -7)\n",
    "pha = np.roll(pha, 2)\n",
    "#ana = np.roll(ana, -9)\n",
    "z = np.roll(z,-1)\n",
    "\n",
    "#analog background correction\n",
    "background = np.mean(ana[4000:6000])\n",
    "ana = ana - background\n",
    "#photon counting background correction\n",
    "background = np.mean(pha[4000:6000])\n",
    "pha = pha - background\n",
    "\n",
    "Xp, Xa, mfb = get_toggle_freq(ana, an_d, pha, overlap, max_freq = 10.0, min_freq = 0.5, pre_amplifier_range = range_355, LSB_coeff = 2.0)\n",
    "print('Xp, Xa, mfb')\n",
    "print(Xp, Xa, mfb)"
   ]
  },
  {
   "cell_type": "code",
   "execution_count": 11,
   "metadata": {},
   "outputs": [
    {
     "name": "stdout",
     "output_type": "stream",
     "text": [
      "(1188, 1321, 1254)\n"
     ]
    }
   ],
   "source": [
    "#======================standard atmosphere US1976=============================\n",
    "T = []\n",
    "p = []\n",
    "hgt = []\n",
    "rho = []\n",
    "N = []\n",
    "scat = []\n",
    "ang_scat = []\n",
    "a_mol = []\n",
    "b_mol = []\n",
    "\n",
    "T0 = 288.15 #K\n",
    "p0 = 1013.25 #hPa\n",
    "\n",
    "T0 = 288.17 #K\n",
    "p0 = 995.7 #hPa\n",
    "atm = Atmosphere(t_r = 283.5, p_r = 998.6, alt = 89.0)\n",
    "#atm = Atmosphere(t_r = T0, p_r = p0, alt = 0.0)\n",
    "\n",
    "for zz in my_range(89.0,84852,7.5):\n",
    "    T.append(atm.temperature(zz))\n",
    "    p.append(atm.pressure(zz))\n",
    "    rho.append(atm.density(zz))\n",
    "    hgt.append(zz)\n",
    "    a_mol.append(sigma * Ns * (T0 / T[-1]) * (p[-1] / p0))\n",
    "    b_mol.append((a_mol[-1] / (8.0*np.pi/3.0)) * (2 / (2 + rhon)))\n",
    "\n",
    "hgt = np.asarray(hgt)\n",
    "a_mol = np.asarray(a_mol)\n",
    "b_mol = np.asarray(b_mol)\n",
    "\n",
    "a_mol = a_mol\n",
    "b_mol = b_mol\n",
    "\n",
    "b_tmp = np.delete(b_mol,-1)\n",
    "hgt_tmp = np.delete(hgt,-1)\n",
    "\n",
    "rminm = 9000\n",
    "rmaxm = 10000\n",
    "rmin = int((rminm - hgt[0]) / 7.5)\n",
    "rmax = int((rmaxm - hgt[0]) / 7.5)\n",
    "r0 = int((rmin  + rmax ) / 2)\n",
    "normA = rmin\n",
    "normB = rmax\n",
    "print(rmin, rmax, r0)"
   ]
  },
  {
   "cell_type": "code",
   "execution_count": 26,
   "metadata": {},
   "outputs": [
    {
     "name": "stdout",
     "output_type": "stream",
     "text": [
      "(1172, 1305, 1238)\n"
     ]
    }
   ],
   "source": [
    "#=========================ARL GDAS================================\n",
    "data = np.genfromtxt('gdas_profile_200427.txt')\n",
    "pRS, hgtRS, TRS, URS, VRS, RHRS, TPOTRS, WDIRRS, WSPDRS = data[:,0], data[:,1], data[:,2], data[:,3], data[:,4], data[:,5], data[:,6], data[:,7], data[:,8]\n",
    "TRS = TRS + 273.15\n",
    "\n",
    "hgtRS_int = np.linspace(210.0, 30210.0, 4001)\n",
    "##hgtRS_int = np.linspace(0.0, 30210.0, 4029)\n",
    "hgtRS_wt = np.linspace(0.0, 30210.0, 4029)\n",
    "#print(hgtRS_int)\n",
    "pRS_int = np.interp(hgtRS_int, hgtRS, pRS)\n",
    "TRS_int = np.interp(hgtRS_int, hgtRS, TRS)\n",
    "RHRS_int = np.interp(hgtRS_int, hgtRS, RHRS)\n",
    "a_mol_RS = sigma * Ns * (TRS_int[0] / TRS_int) * (pRS_int / pRS_int[0])\n",
    "b_mol_RS = (a_mol_RS / (8.0*np.pi/3.0)) * (2 / (2 + rhon))\n",
    "\n",
    "rminm = 9000\n",
    "rmaxm = 10000\n",
    "rmin = int((rminm - hgtRS_int[0]) / 7.5)\n",
    "rmax = int((rmaxm - hgtRS_int[0]) / 7.5)\n",
    "r0 = int((rmin  + rmax ) / 2)\n",
    "normA = rmin\n",
    "normB = rmax\n",
    "print(rmin, rmax, r0)"
   ]
  },
  {
   "cell_type": "code",
   "execution_count": 12,
   "metadata": {
    "scrolled": true
   },
   "outputs": [
    {
     "ename": "IOError",
     "evalue": "/home/luka/lidar/2020/27042020/rs.txt not found.",
     "output_type": "error",
     "traceback": [
      "\u001b[0;31m---------------------------------------------------------------------------\u001b[0m",
      "\u001b[0;31mIOError\u001b[0m                                   Traceback (most recent call last)",
      "\u001b[0;32m<ipython-input-12-bc14d0ef41fd>\u001b[0m in \u001b[0;36m<module>\u001b[0;34m()\u001b[0m\n\u001b[1;32m      1\u001b[0m \u001b[0;31m#=========================radiosounding================================\u001b[0m\u001b[0;34m\u001b[0m\u001b[0;34m\u001b[0m\u001b[0m\n\u001b[0;32m----> 2\u001b[0;31m \u001b[0mdata\u001b[0m \u001b[0;34m=\u001b[0m \u001b[0mnp\u001b[0m\u001b[0;34m.\u001b[0m\u001b[0mgenfromtxt\u001b[0m\u001b[0;34m(\u001b[0m\u001b[0mroot_dir\u001b[0m\u001b[0;34m+\u001b[0m\u001b[0;34m'/rs.txt'\u001b[0m\u001b[0;34m)\u001b[0m\u001b[0;34m\u001b[0m\u001b[0m\n\u001b[0m\u001b[1;32m      3\u001b[0m \u001b[0mpRS\u001b[0m\u001b[0;34m,\u001b[0m \u001b[0mhgtRS\u001b[0m\u001b[0;34m,\u001b[0m \u001b[0mTRS\u001b[0m\u001b[0;34m,\u001b[0m \u001b[0mTdRS\u001b[0m\u001b[0;34m,\u001b[0m \u001b[0mRHRS\u001b[0m \u001b[0;34m=\u001b[0m \u001b[0mdata\u001b[0m\u001b[0;34m[\u001b[0m\u001b[0;34m:\u001b[0m\u001b[0;34m,\u001b[0m\u001b[0;36m0\u001b[0m\u001b[0;34m]\u001b[0m\u001b[0;34m,\u001b[0m \u001b[0mdata\u001b[0m\u001b[0;34m[\u001b[0m\u001b[0;34m:\u001b[0m\u001b[0;34m,\u001b[0m\u001b[0;36m1\u001b[0m\u001b[0;34m]\u001b[0m\u001b[0;34m,\u001b[0m \u001b[0mdata\u001b[0m\u001b[0;34m[\u001b[0m\u001b[0;34m:\u001b[0m\u001b[0;34m,\u001b[0m\u001b[0;36m2\u001b[0m\u001b[0;34m]\u001b[0m\u001b[0;34m,\u001b[0m \u001b[0mdata\u001b[0m\u001b[0;34m[\u001b[0m\u001b[0;34m:\u001b[0m\u001b[0;34m,\u001b[0m\u001b[0;36m3\u001b[0m\u001b[0;34m]\u001b[0m\u001b[0;34m,\u001b[0m \u001b[0mdata\u001b[0m\u001b[0;34m[\u001b[0m\u001b[0;34m:\u001b[0m\u001b[0;34m,\u001b[0m\u001b[0;36m4\u001b[0m\u001b[0;34m]\u001b[0m\u001b[0;34m\u001b[0m\u001b[0m\n\u001b[1;32m      4\u001b[0m \u001b[0mTRS\u001b[0m \u001b[0;34m=\u001b[0m \u001b[0mTRS\u001b[0m \u001b[0;34m+\u001b[0m \u001b[0;36m273.15\u001b[0m\u001b[0;34m\u001b[0m\u001b[0m\n\u001b[1;32m      5\u001b[0m \u001b[0;34m\u001b[0m\u001b[0m\n",
      "\u001b[0;32m/home/luka/anaconda3/envs/qa/lib/python2.7/site-packages/numpy/lib/npyio.pyc\u001b[0m in \u001b[0;36mgenfromtxt\u001b[0;34m(fname, dtype, comments, delimiter, skip_header, skip_footer, converters, missing_values, filling_values, usecols, names, excludelist, deletechars, replace_space, autostrip, case_sensitive, defaultfmt, unpack, usemask, loose, invalid_raise, max_rows, encoding)\u001b[0m\n\u001b[1;32m   1742\u001b[0m             \u001b[0mfname\u001b[0m \u001b[0;34m=\u001b[0m \u001b[0mos_fspath\u001b[0m\u001b[0;34m(\u001b[0m\u001b[0mfname\u001b[0m\u001b[0;34m)\u001b[0m\u001b[0;34m\u001b[0m\u001b[0m\n\u001b[1;32m   1743\u001b[0m         \u001b[0;32mif\u001b[0m \u001b[0misinstance\u001b[0m\u001b[0;34m(\u001b[0m\u001b[0mfname\u001b[0m\u001b[0;34m,\u001b[0m \u001b[0mbasestring\u001b[0m\u001b[0;34m)\u001b[0m\u001b[0;34m:\u001b[0m\u001b[0;34m\u001b[0m\u001b[0m\n\u001b[0;32m-> 1744\u001b[0;31m             \u001b[0mfhd\u001b[0m \u001b[0;34m=\u001b[0m \u001b[0miter\u001b[0m\u001b[0;34m(\u001b[0m\u001b[0mnp\u001b[0m\u001b[0;34m.\u001b[0m\u001b[0mlib\u001b[0m\u001b[0;34m.\u001b[0m\u001b[0m_datasource\u001b[0m\u001b[0;34m.\u001b[0m\u001b[0mopen\u001b[0m\u001b[0;34m(\u001b[0m\u001b[0mfname\u001b[0m\u001b[0;34m,\u001b[0m \u001b[0;34m'rt'\u001b[0m\u001b[0;34m,\u001b[0m \u001b[0mencoding\u001b[0m\u001b[0;34m=\u001b[0m\u001b[0mencoding\u001b[0m\u001b[0;34m)\u001b[0m\u001b[0;34m)\u001b[0m\u001b[0;34m\u001b[0m\u001b[0m\n\u001b[0m\u001b[1;32m   1745\u001b[0m             \u001b[0mown_fhd\u001b[0m \u001b[0;34m=\u001b[0m \u001b[0mTrue\u001b[0m\u001b[0;34m\u001b[0m\u001b[0m\n\u001b[1;32m   1746\u001b[0m         \u001b[0;32melse\u001b[0m\u001b[0;34m:\u001b[0m\u001b[0;34m\u001b[0m\u001b[0m\n",
      "\u001b[0;32m/home/luka/anaconda3/envs/qa/lib/python2.7/site-packages/numpy/lib/_datasource.pyc\u001b[0m in \u001b[0;36mopen\u001b[0;34m(path, mode, destpath, encoding, newline)\u001b[0m\n\u001b[1;32m    264\u001b[0m \u001b[0;34m\u001b[0m\u001b[0m\n\u001b[1;32m    265\u001b[0m     \u001b[0mds\u001b[0m \u001b[0;34m=\u001b[0m \u001b[0mDataSource\u001b[0m\u001b[0;34m(\u001b[0m\u001b[0mdestpath\u001b[0m\u001b[0;34m)\u001b[0m\u001b[0;34m\u001b[0m\u001b[0m\n\u001b[0;32m--> 266\u001b[0;31m     \u001b[0;32mreturn\u001b[0m \u001b[0mds\u001b[0m\u001b[0;34m.\u001b[0m\u001b[0mopen\u001b[0m\u001b[0;34m(\u001b[0m\u001b[0mpath\u001b[0m\u001b[0;34m,\u001b[0m \u001b[0mmode\u001b[0m\u001b[0;34m,\u001b[0m \u001b[0mencoding\u001b[0m\u001b[0;34m=\u001b[0m\u001b[0mencoding\u001b[0m\u001b[0;34m,\u001b[0m \u001b[0mnewline\u001b[0m\u001b[0;34m=\u001b[0m\u001b[0mnewline\u001b[0m\u001b[0;34m)\u001b[0m\u001b[0;34m\u001b[0m\u001b[0m\n\u001b[0m\u001b[1;32m    267\u001b[0m \u001b[0;34m\u001b[0m\u001b[0m\n\u001b[1;32m    268\u001b[0m \u001b[0;34m\u001b[0m\u001b[0m\n",
      "\u001b[0;32m/home/luka/anaconda3/envs/qa/lib/python2.7/site-packages/numpy/lib/_datasource.pyc\u001b[0m in \u001b[0;36mopen\u001b[0;34m(self, path, mode, encoding, newline)\u001b[0m\n\u001b[1;32m    622\u001b[0m                                       encoding=encoding, newline=newline)\n\u001b[1;32m    623\u001b[0m         \u001b[0;32melse\u001b[0m\u001b[0;34m:\u001b[0m\u001b[0;34m\u001b[0m\u001b[0m\n\u001b[0;32m--> 624\u001b[0;31m             \u001b[0;32mraise\u001b[0m \u001b[0mIOError\u001b[0m\u001b[0;34m(\u001b[0m\u001b[0;34m\"%s not found.\"\u001b[0m \u001b[0;34m%\u001b[0m \u001b[0mpath\u001b[0m\u001b[0;34m)\u001b[0m\u001b[0;34m\u001b[0m\u001b[0m\n\u001b[0m\u001b[1;32m    625\u001b[0m \u001b[0;34m\u001b[0m\u001b[0m\n\u001b[1;32m    626\u001b[0m \u001b[0;34m\u001b[0m\u001b[0m\n",
      "\u001b[0;31mIOError\u001b[0m: /home/luka/lidar/2020/27042020/rs.txt not found."
     ]
    }
   ],
   "source": [
    "#=========================radiosounding================================\n",
    "data = np.genfromtxt(root_dir+'/rs.txt')\n",
    "pRS, hgtRS, TRS, TdRS, RHRS = data[:,0], data[:,1], data[:,2], data[:,3], data[:,4]\n",
    "TRS = TRS + 273.15\n",
    "\n",
    "hgtRS_int = np.linspace(210.0, 30210.0, 4001)\n",
    "##hgtRS_int = np.linspace(0.0, 30210.0, 4029)\n",
    "hgtRS_wt = np.linspace(0.0, 30210.0, 4029)\n",
    "#print(hgtRS_int)\n",
    "pRS_int = np.interp(hgtRS_int, hgtRS, pRS)\n",
    "TRS_int = np.interp(hgtRS_int, hgtRS, TRS)\n",
    "RHRS_int = np.interp(hgtRS_int, hgtRS, RHRS)\n",
    "a_mol_RS = sigma * Ns * (TRS_int[0] / TRS_int) * (pRS_int / pRS_int[0])\n",
    "b_mol_RS = (a_mol_RS / (8.0*np.pi/3.0)) * (2 / (2 + rhon))\n",
    "\n",
    "rminm = 9000\n",
    "rmaxm = 10000\n",
    "rmin = int((rminm - hgtRS_int[0]) / 7.5)\n",
    "rmax = int((rmaxm - hgtRS_int[0]) / 7.5)\n",
    "r0 = int((rmin  + rmax ) / 2)\n",
    "normA = rmin\n",
    "normB = rmax\n",
    "print(rmin, rmax, r0)"
   ]
  },
  {
   "cell_type": "code",
   "execution_count": 27,
   "metadata": {},
   "outputs": [
    {
     "name": "stdout",
     "output_type": "stream",
     "text": [
      "=============================GLUE===================================\n",
      "('correlation coeff.', (0.9993829358711589, 6.467036414560933e-159))\n",
      "('r-squared:', 0.9987662525104576)\n",
      "slope test\n",
      "(0.00014761334154403893, 0.00017146584341649874, True)\n",
      "stability test\n",
      "True\n",
      "=============================GLUE===================================\n"
     ]
    }
   ],
   "source": [
    "#=============================GLUE===================================\n",
    "print('=============================GLUE===================================')\n",
    "print('correlation coeff.', stats.pearsonr(ana[Xp:Xa],pha[Xp:Xa]))\n",
    "Xam = int((Xa + Xp) / 2)\n",
    "slope, intercept, r_value, p_value, std_err = stats.linregress(ana[Xp:Xa],pha[Xp:Xa])\n",
    "print(\"r-squared:\", r_value**2)\n",
    "GCs=[]\n",
    "GCs.append(slope)\n",
    "GCs.append(intercept)\n",
    "\n",
    "X = sm.add_constant(ana[Xp:Xa])\n",
    "Y = pha[Xp:Xa]\n",
    "linreg = sm.OLS(Y,X).fit()\n",
    "#print(linreg.params)\n",
    "b, a = linreg.params\n",
    "#print(b,a)\n",
    "#print(linreg.summary())\n",
    "#LSQF_scaled = linreg.predict(X)\n",
    "LSQF_scaled = a * ana + b\n",
    "\n",
    "scaled_an = GCs[0] * ana + GCs[1]\n",
    "\n",
    "residuals = pha[Xp:Xa] - LSQF_scaled[Xp:Xa]\n",
    "X = sm.add_constant(z[Xp:Xa])\n",
    "Y = residuals\n",
    "#print('residuals====================================')\n",
    "#print(residuals)\n",
    "#np.savetxt('residuals.txt',residuals)\n",
    "#print('residuals====================================')\n",
    "linreg = sm.OLS(Y,X).fit()\n",
    "#print(linreg.params)\n",
    "#print(linreg.summary())\n",
    "b, a = linreg.params\n",
    "b_std, a_std = linreg.bse\n",
    "LSQFR = a * residuals + b\n",
    "LSQF1 = (a + 2 * a_std) * X[:,1] + (b - 2 * b_std)\n",
    "LSQF2 = (a - 2 * a_std) * X[:,1] + (b + 2 * b_std)\n",
    "\n",
    "if Xa - Xp >= 30:\n",
    "    print('slope test')\n",
    "    X = sm.add_constant(z[Xp:Xam])\n",
    "    Y = residuals[:Xam-Xp]\n",
    "    linreg = sm.OLS(Y,X).fit()\n",
    "    b, k1 = linreg.params\n",
    "    b_std, deltak1 = linreg.bse\n",
    "\n",
    "    X = sm.add_constant(z[Xam:Xa])\n",
    "    Y = residuals[Xam-Xp:]\n",
    "    linreg = sm.OLS(Y,X).fit()\n",
    "    b, k2 = linreg.params\n",
    "    b_std, deltak2 = linreg.bse\n",
    "    C = abs(k1 - k2)\n",
    "    deltaC = np.sqrt(deltak1 **2 + deltak2 **2)\n",
    "    print(C, 2 * deltaC, C < 2 * deltaC)\n",
    "\n",
    "if C < 2 * deltaC:\n",
    "    print('stability test')\n",
    "    X = sm.add_constant(z[Xp:Xam])\n",
    "    Y = ana[Xp:Xam]\n",
    "    linreg = sm.OLS(Y,X).fit()\n",
    "    b, K1 = linreg.params\n",
    "    b_std, deltaK1 = linreg.bse\n",
    "    \n",
    "    X = sm.add_constant(z[Xam:Xa])\n",
    "    Y = ana[Xam:Xa]\n",
    "    linreg = sm.OLS(Y,X).fit()\n",
    "    b, K2 = linreg.params\n",
    "    b_std, deltaK2 = linreg.bse\n",
    "    print(abs(K1 - K1) < np.sqrt(deltaK1 **2 + deltaK2 **2))\n",
    "#glued = scaled_an\n",
    "glued = LSQF_scaled\n",
    "glued[Xp:] = pha[Xp:]\n",
    "#glued = glued[0:len(hgtRS_int)] * (hgt_tmp[0:len(hgtRS_int)] **2)\n",
    "glued = glued * z **2\n",
    "\n",
    "#plt.plot(z[Xp:Xa],residuals,label='residuals')\n",
    "#plt.plot(z[Xp:Xa],LSQFR,label='LSQFR')\n",
    "#plt.plot(z[Xp:Xa],LSQF1,label='LSQF1')\n",
    "#plt.plot(z[Xp:Xa],LSQF2,label='LSQF2')\n",
    "#plt.legend(loc='upper right')\n",
    "#plt.show()\n",
    "print('=============================GLUE===================================')"
   ]
  },
  {
   "cell_type": "code",
   "execution_count": 28,
   "metadata": {},
   "outputs": [
    {
     "name": "stdout",
     "output_type": "stream",
     "text": [
      "=============================RAYLEIGH===============================\n",
      "slope test Rayleigh\n",
      "(1.4425409884889386e-12, 4.0972031286607747e-10, True)\n",
      "ADT===============================================================================================\n",
      "AndersonResult(statistic=0.2588627080943695, critical_values=array([0.56 , 0.638, 0.765, 0.892, 1.062]), significance_level=array([15. , 10. ,  5. ,  2.5,  1. ]))\n",
      "(0.2588627080943695, 0.7102462473326205)\n",
      "ADT===============================================================================================\n",
      "Chi2==============================================================================================\n",
      "(array([ 4, 10, 11, 18, 26, 23, 14, 17,  6,  4]), array([-3.84657444e-07, -3.06421180e-07, -2.28184916e-07, -1.49948651e-07,\n",
      "       -7.17123869e-08,  6.52387756e-09,  8.47601420e-08,  1.62996406e-07,\n",
      "        2.41232671e-07,  3.19468935e-07,  3.97705200e-07]))\n",
      "(40.1578947368421, 1.1741592691164421e-06)\n",
      "Chi2==============================================================================================\n"
     ]
    }
   ],
   "source": [
    "print('=============================RAYLEIGH===============================')\n",
    "#normalized_RCS = glued * integrate.trapz(b_tmp[rmin:rmax]) / integrate.trapz(glued[rmin:rmax])\n",
    "#ray = normalized_RCS\n",
    "\n",
    "b_attn_RS = np.zeros(b_mol_RS.shape[0])\n",
    "for i, value in np.ndenumerate(b_mol_RS):\n",
    "    r = i[0]\n",
    "#   b_attn_RS[r] = b_mol_RS[r] * np.exp(-2 * integrate.trapz(a_mol_RS[r0:r],hgtRS_int[r0:r]))\n",
    "    if r < r0:\n",
    "        b_attn_RS[r] = b_mol_RS[r] * np.exp(-2 * integrate.trapz(a_mol_RS[r:r0],np.flip(hgtRS_int[r:r0],0)))\n",
    "    else:\n",
    "        b_attn_RS[r] = b_mol_RS[r] * np.exp(-2 * integrate.trapz(a_mol_RS[r0:r],hgtRS_int[r0:r]))\n",
    "\n",
    "normalized_RCS2RS = glued * integrate.trapz(b_attn_RS[normA:normB]) / integrate.trapz(glued[normA:normB])\n",
    "ray_RS = normalized_RCS2RS\n",
    "\n",
    "#b_attn_RS\n",
    "ray_mean = np.mean(ray_RS[rmin:rmax])\n",
    "ray_std = np.std(ray_RS[rmin:rmax], ddof = 1)\n",
    "ray_SEM = ray_std / np.sqrt(len(ray_RS[rmin:rmax]))\n",
    "n = len(ray_RS[rmin:rmax])\n",
    "\n",
    "X = sm.add_constant(hgtRS_int[rmin:rmax])\n",
    "Y = ray_RS[rmin:rmax]\n",
    "linreg = sm.OLS(Y,X).fit()\n",
    "#print(linreg.params)\n",
    "#print(linreg.bse)\n",
    "#print(linreg.summary())\n",
    "\n",
    "LSQF = linreg.predict(X)\n",
    "b, a = linreg.params\n",
    "b_std, a_std = linreg.bse\n",
    "LSQF1 = (a + 2 * a_std) * X[:,1] + (b - 2 * b_std)\n",
    "LSQF2 = (a - 2 * a_std) * X[:,1] + (b + 2 * b_std)\n",
    "\n",
    "residuals = ray_RS[rmin:rmax] - LSQF\n",
    "X = sm.add_constant(z[rmin:rmax])\n",
    "Y = residuals\n",
    "#print(residuals)\n",
    "linreg = sm.OLS(Y,X).fit()\n",
    "#print(linreg.params)\n",
    "#print(linreg.summary())\n",
    "b, a = linreg.params\n",
    "b_std, a_std = linreg.bse\n",
    "LSQFR = a * residuals + b\n",
    "LSQFR1 = (a + 2 * a_std) * X[:,1] + (b - 2 * b_std)\n",
    "LSQFR2 = (a - 2 * a_std) * X[:,1] + (b + 2 * b_std)\n",
    "\n",
    "rm = int((rmax + rmin) / 2)\n",
    "print('slope test Rayleigh')\n",
    "X = sm.add_constant(z[rmin:rm])\n",
    "Y = residuals[:rm-rmin]\n",
    "linreg = sm.OLS(Y,X).fit()\n",
    "b, k1 = linreg.params\n",
    "b_std, deltak1 = linreg.bse\n",
    "\n",
    "X = sm.add_constant(z[rm:rmax])\n",
    "Y = residuals[rm-rmin:]\n",
    "linreg = sm.OLS(Y,X).fit()\n",
    "b, k2 = linreg.params\n",
    "b_std, deltak2 = linreg.bse\n",
    "C = abs(k1 - k2)\n",
    "deltaC = np.sqrt(deltak1 **2 + deltak2 **2)\n",
    "print(C, 2 * deltaC, C < 2 * deltaC)\n",
    "print('ADT===============================================================================================')\n",
    "ADT = stats.anderson(residuals, dist = 'norm' )\n",
    "print(ADT)\n",
    "ad2, pval = sm.stats.diagnostic.normal_ad(residuals, axis=0)\n",
    "print(ad2, pval)\n",
    "print('ADT===============================================================================================')\n",
    "print('Chi2==============================================================================================')\n",
    "bins = np.histogram(residuals, bins=10)\n",
    "print(bins)\n",
    "Chi2, p = stats.chisquare(bins[0], ddof=2)\n",
    "print(Chi2, p)\n",
    "print('Chi2==============================================================================================')\n",
    "\n",
    "itemindex = np.where(z == hgtRS_int[0])\n",
    "nan = np.empty(itemindex[0][0])\n",
    "nan[:] = np.NAN\n",
    "attnRBSC = np.insert(b_attn_RS,0,nan)\n",
    "#print(np.shape(attnRBSC))\n",
    "#print(np.shape(glued))"
   ]
  },
  {
   "cell_type": "code",
   "execution_count": 29,
   "metadata": {},
   "outputs": [
    {
     "data": {
      "image/png": "[encoded data removed]",
      "text/plain": [
       "<Figure size 1152x648 with 1 Axes>"
      ]
     },
     "metadata": {
      "needs_background": "light"
     },
     "output_type": "display_data"
    }
   ],
   "source": [
    "font = {'family' : 'normal',\n",
    "        'weight' : 'normal',\n",
    "        'size'   : 18}\n",
    "matplotlib.rc('font', **font)\n",
    "\n",
    "fig = plt.figure(figsize=(16,9))\n",
    "ax = fig.add_subplot(111)\n",
    "\n",
    "plt.plot(hgtRS_int, ray_RS[0:len(hgtRS_int)], label = 'Rayleigh Fit2RS', color='green')\n",
    "plt.plot(hgtRS_int, b_mol_RS[0:len(hgtRS_int)], label = 'Beta Rayleigh RS', linewidth=2)\n",
    "plt.plot(hgtRS_int, b_attn_RS[0:len(hgtRS_int)], label = 'Beta Rayleigh attn RS', linewidth=2)\n",
    "\n",
    "\n",
    "plt.grid()\n",
    "#plt.axvline(x=z[Xp])\n",
    "#plt.axvline(x=hgtRS_int[r0])\n",
    "ax.yaxis.set_major_formatter(mtick.FormatStrFormatter('%.2e'))\n",
    "plt.axvspan(hgtRS_int[0] + rmin * 7.5, hgtRS_int[0] + rmax * 7.5, facecolor='g', alpha=0.5)\n",
    "#plt.show()\n",
    "\n",
    "#plt.plot(hgtRS_int[rmin:rmax], LSQF, label = 'LSQF')\n",
    "#plt.plot(hgtRS_int[rmin:rmax], LSQF1, label = 'LSQF1')\n",
    "#plt.plot(hgtRS_int[rmin:rmax], LSQF2, label = 'LSQF2')\n",
    "#plt.plot(hgtRS_int[rmin:rmax], residuals, label = 'residuals')\n",
    "#plt.plot(hgtRS_int[rmin:rmax], LSQFR, label = 'LSQFR')\n",
    "#plt.plot(hgtRS_int[rmin:rmax], LSQFR1, label = 'LSQFR1')\n",
    "#plt.plot(hgtRS_int[rmin:rmax], LSQFR2, label = 'LSQFR2')\n",
    "\n",
    "plt.legend(loc='upper right')\n",
    "plt.title('Rayleigh Fit')\n",
    "plt.xlabel('Range [m]')\n",
    "plt.ylabel('A.U.')\n",
    "plt.tight_layout()\n",
    "plt.show()\n",
    "#plt.close()"
   ]
  },
  {
   "cell_type": "code",
   "execution_count": 22,
   "metadata": {},
   "outputs": [],
   "source": [
    "lidar_site = 'station ID = bgd (Belgrade)\\n'\n",
    "lidar_name = 'system = BARLI\\n'\n",
    "channel = 'signal = 0355, glued\\n'\n",
    "date = 'date of measurement, time, duration of measurement = 27.04.2020, 21UTC, 1800s\\n'\n",
    "radiosonde = 'location, WMO radiosonde station ID, date of radiosonde = GDAS profile for Belgrade - Kostutnjak, 13275, 08.05.2020, 21UTC\\n'\n",
    "fit_range = 'lower and upper Rayleigh height limits[km]: ' + str(rminm/1000.0) + ', ' + str(rmaxm/1000.0) + '\\n'\n",
    "columns = 'range, attenuated_RayleighBSC, RangeCorrectedSignal, Dark Measurement'\n",
    "header = lidar_site + lidar_name + channel + date + radiosonde + fit_range + columns\n",
    "out_h = hgtRS_wt[28:]\n",
    "#out_b = attnRBSC[28:]\n",
    "out_b = b_attn_RS\n",
    "out_g = glued[28:len(hgtRS_wt)]\n",
    "out_d = an_d[0,28:len(hgtRS_wt)]\n",
    "np.savetxt('ray355.txt', np.column_stack((out_h, out_b, out_g, out_d)), fmt='%.15e', header = header, comments='', delimiter=',')"
   ]
  },
  {
   "cell_type": "code",
   "execution_count": 27,
   "metadata": {},
   "outputs": [
    {
     "data": {
      "text/plain": [
       "array([4.95208249, 4.95159408, 4.95242844, ..., 4.95672229, 4.95703432,\n",
       "       4.95683082])"
      ]
     },
     "execution_count": 27,
     "metadata": {},
     "output_type": "execute_result"
    }
   ],
   "source": [
    "out_d"
   ]
  },
  {
   "cell_type": "code",
   "execution_count": 31,
   "metadata": {},
   "outputs": [
    {
     "data": {
      "text/plain": [
       "array([1.90292876e-05, 1.89892287e-05, 1.89492611e-05, ...,\n",
       "       1.54452267e-07, 1.54447960e-07, 1.54443653e-07])"
      ]
     },
     "execution_count": 31,
     "metadata": {},
     "output_type": "execute_result"
    }
   ],
   "source": [
    "b_attn_RS"
   ]
  },
  {
   "cell_type": "code",
   "execution_count": 32,
   "metadata": {},
   "outputs": [
    {
     "data": {
      "text/plain": [
       "array([           nan,            nan,            nan, ...,\n",
       "       1.54452267e-07, 1.54447960e-07, 1.54443653e-07])"
      ]
     },
     "execution_count": 32,
     "metadata": {},
     "output_type": "execute_result"
    }
   ],
   "source": [
    "attnRBSC"
   ]
  },
  {
   "cell_type": "code",
   "execution_count": 30,
   "metadata": {},
   "outputs": [
    {
     "data": {
      "text/plain": [
       "array([  210. ,   217.5,   225. , ..., 30195. , 30202.5, 30210. ])"
      ]
     },
     "execution_count": 30,
     "metadata": {},
     "output_type": "execute_result"
    }
   ],
   "source": [
    "hgtRS_int"
   ]
  },
  {
   "cell_type": "code",
   "execution_count": 39,
   "metadata": {},
   "outputs": [
    {
     "data": {
      "text/plain": [
       "1.90292876468693e-05"
      ]
     },
     "execution_count": 39,
     "metadata": {},
     "output_type": "execute_result"
    }
   ],
   "source": [
    "attnRBSC[27]"
   ]
  },
  {
   "cell_type": "code",
   "execution_count": null,
   "metadata": {},
   "outputs": [],
   "source": []
  }
 ],
 "metadata": {
  "kernelspec": {
   "display_name": "Python 3 (ipykernel)",
   "language": "python",
   "name": "python3"
  },
  "language_info": {
   "codemirror_mode": {
    "name": "ipython",
    "version": 3
   },
   "file_extension": ".py",
   "mimetype": "text/x-python",
   "name": "python",
   "nbconvert_exporter": "python",
   "pygments_lexer": "ipython3",
   "version": "3.9.7"
  }
 },
 "nbformat": 4,
 "nbformat_minor": 2
}
